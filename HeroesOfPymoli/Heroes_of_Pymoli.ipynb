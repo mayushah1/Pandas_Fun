{
 "cells": [
  {
   "cell_type": "markdown",
   "metadata": {},
   "source": [
    "#Heros of Pymoli"
   ]
  },
  {
   "cell_type": "markdown",
   "metadata": {},
   "source": [
    "Your final report should include each of the following:\n",
    "\n",
    "**Player Count**\n",
    "\n",
    "* Total Number of Players\n",
    "\n",
    "**Purchasing Analysis (Total)**\n",
    "\n",
    "* Number of Unique Items\n",
    "* Average Purchase Price\n",
    "* Total Number of Purchases\n",
    "* Total Revenue\n",
    "\n",
    "**Gender Demographics**\n",
    "\n",
    "* Percentage and Count of Male Players\n",
    "* Percentage and Count of Female Players\n",
    "* Percentage and Count of Other / Non-Disclosed\n",
    "\n",
    "**Purchasing Analysis (Gender)** \n",
    "\n",
    "* The below each broken by gender\n",
    "  * Purchase Count\n",
    "  * Average Purchase Price\n",
    "  * Total Purchase Value\n",
    "  * Normalized Totals\n",
    "\n",
    "**Age Demographics**\n",
    "\n",
    "* The below each broken into bins of 4 years (i.e. &lt;10, 10-14, 15-19, etc.) \n",
    "  * Purchase Count\n",
    "  * Average Purchase Price\n",
    "  * Total Purchase Value\n",
    "  * Normalized Totals\n",
    "\n",
    "**Top Spenders**\n",
    "\n",
    "* Identify the the top 5 spenders in the game by total purchase value, then list (in a table):\n",
    "  * SN\n",
    "  * Purchase Count\n",
    "  * Average Purchase Price\n",
    "  * Total Purchase Value\n",
    "\n",
    "**Most Popular Items**\n",
    "\n",
    "* Identify the 5 most popular items by purchase count, then list (in a table):\n",
    "  * Item ID\n",
    "  * Item Name\n",
    "  * Purchase Count\n",
    "  * Item Price\n",
    "  * Total Purchase Value\n",
    "\n",
    "**Most Profitable Items**\n",
    "\n",
    "* Identify the 5 most profitable items by total purchase value, then list (in a table):\n",
    "  * Item ID\n",
    "  * Item Name\n",
    "  * Purchase Count\n",
    "  * Item Price\n",
    "  * Total Purchase Value\n",
    "\n",
    "As final considerations:\n",
    "\n",
    "* Your script must work for both data-sets given.\n",
    "* You must use the Pandas Library and the Jupyter Notebook.\n",
    "* You must submit a link to your Jupyter Notebook with the viewable Data Frames. \n",
    "* You must include an exported markdown version of your Notebook called  `README.md` in your GitHub repository.  \n",
    "* You must include a written description of three observable trends based on the data. \n",
    "* See [Example Solution](HeroesOfPymoli/HeroesOfPymoli_Example.pdf) for a reference on expected format. "
   ]
  },
  {
   "cell_type": "markdown",
   "metadata": {},
   "source": [
    "## Three observable trends based on the data\n",
    "#1) - Most Profitable item is Mourning Blade with three purchases and about $11 in revenue\n",
    "#2) - There are mainly male players 64 out of 74 and highest number of players are between 20-24 years of age (33 players)\n",
    "#3) - There are two returning buyrs: Sundaky74 and Aidaira26"
   ]
  },
  {
   "cell_type": "code",
   "execution_count": 29,
   "metadata": {},
   "outputs": [],
   "source": [
    "import pandas as pd\n",
    "import numpy as np\n",
    "import json as js"
   ]
  },
  {
   "cell_type": "code",
   "execution_count": 34,
   "metadata": {},
   "outputs": [
    {
     "name": "stdout",
     "output_type": "stream",
     "text": [
      "Please enter which file you want to read, purchase_data.json or purchase_data2.json.purchase_data2.json\n"
     ]
    }
   ],
   "source": [
    "#open CSV file\n",
    "userinput = input('Please enter which file you want to read, purchase_data.json or purchase_data2.json.')\n",
    "csv_path = userinput"
   ]
  },
  {
   "cell_type": "code",
   "execution_count": 32,
   "metadata": {},
   "outputs": [],
   "source": [
    "df = pd.read_json(csv_path)"
   ]
  },
  {
   "cell_type": "code",
   "execution_count": 33,
   "metadata": {},
   "outputs": [
    {
     "data": {
      "text/html": [
       "<div>\n",
       "<style scoped>\n",
       "    .dataframe tbody tr th:only-of-type {\n",
       "        vertical-align: middle;\n",
       "    }\n",
       "\n",
       "    .dataframe tbody tr th {\n",
       "        vertical-align: top;\n",
       "    }\n",
       "\n",
       "    .dataframe thead th {\n",
       "        text-align: right;\n",
       "    }\n",
       "</style>\n",
       "<table border=\"1\" class=\"dataframe\">\n",
       "  <thead>\n",
       "    <tr style=\"text-align: right;\">\n",
       "      <th></th>\n",
       "      <th>Age</th>\n",
       "      <th>Gender</th>\n",
       "      <th>Item ID</th>\n",
       "      <th>Item Name</th>\n",
       "      <th>Price</th>\n",
       "      <th>SN</th>\n",
       "    </tr>\n",
       "  </thead>\n",
       "  <tbody>\n",
       "    <tr>\n",
       "      <th>0</th>\n",
       "      <td>20</td>\n",
       "      <td>Male</td>\n",
       "      <td>93</td>\n",
       "      <td>Apocalyptic Battlescythe</td>\n",
       "      <td>4.49</td>\n",
       "      <td>Iloni35</td>\n",
       "    </tr>\n",
       "    <tr>\n",
       "      <th>1</th>\n",
       "      <td>21</td>\n",
       "      <td>Male</td>\n",
       "      <td>12</td>\n",
       "      <td>Dawne</td>\n",
       "      <td>3.36</td>\n",
       "      <td>Aidaira26</td>\n",
       "    </tr>\n",
       "    <tr>\n",
       "      <th>2</th>\n",
       "      <td>17</td>\n",
       "      <td>Male</td>\n",
       "      <td>5</td>\n",
       "      <td>Putrid Fan</td>\n",
       "      <td>2.63</td>\n",
       "      <td>Irim47</td>\n",
       "    </tr>\n",
       "    <tr>\n",
       "      <th>3</th>\n",
       "      <td>17</td>\n",
       "      <td>Male</td>\n",
       "      <td>123</td>\n",
       "      <td>Twilight's Carver</td>\n",
       "      <td>2.55</td>\n",
       "      <td>Irith83</td>\n",
       "    </tr>\n",
       "    <tr>\n",
       "      <th>4</th>\n",
       "      <td>22</td>\n",
       "      <td>Male</td>\n",
       "      <td>154</td>\n",
       "      <td>Feral Katana</td>\n",
       "      <td>4.11</td>\n",
       "      <td>Philodil43</td>\n",
       "    </tr>\n",
       "  </tbody>\n",
       "</table>\n",
       "</div>"
      ],
      "text/plain": [
       "   Age Gender  Item ID                 Item Name  Price          SN\n",
       "0   20   Male       93  Apocalyptic Battlescythe   4.49     Iloni35\n",
       "1   21   Male       12                     Dawne   3.36   Aidaira26\n",
       "2   17   Male        5                Putrid Fan   2.63      Irim47\n",
       "3   17   Male      123         Twilight's Carver   2.55     Irith83\n",
       "4   22   Male      154              Feral Katana   4.11  Philodil43"
      ]
     },
     "execution_count": 33,
     "metadata": {},
     "output_type": "execute_result"
    }
   ],
   "source": [
    "df.head()"
   ]
  },
  {
   "cell_type": "markdown",
   "metadata": {},
   "source": [
    "## Player Count"
   ]
  },
  {
   "cell_type": "code",
   "execution_count": 5,
   "metadata": {},
   "outputs": [
    {
     "data": {
      "text/html": [
       "<div>\n",
       "<style scoped>\n",
       "    .dataframe tbody tr th:only-of-type {\n",
       "        vertical-align: middle;\n",
       "    }\n",
       "\n",
       "    .dataframe tbody tr th {\n",
       "        vertical-align: top;\n",
       "    }\n",
       "\n",
       "    .dataframe thead th {\n",
       "        text-align: right;\n",
       "    }\n",
       "</style>\n",
       "<table border=\"1\" class=\"dataframe\">\n",
       "  <thead>\n",
       "    <tr style=\"text-align: right;\">\n",
       "      <th></th>\n",
       "      <th>Total Players</th>\n",
       "    </tr>\n",
       "  </thead>\n",
       "  <tbody>\n",
       "    <tr>\n",
       "      <th>0</th>\n",
       "      <td>74</td>\n",
       "    </tr>\n",
       "  </tbody>\n",
       "</table>\n",
       "</div>"
      ],
      "text/plain": [
       "   Total Players\n",
       "0             74"
      ]
     },
     "execution_count": 5,
     "metadata": {},
     "output_type": "execute_result"
    }
   ],
   "source": [
    "#Total Number of Players\n",
    "a = df[\"SN\"].unique()\n",
    "Tp = {'Total Players':[len(a)]}\n",
    "Tp1 = pd.DataFrame(Tp)\n",
    "Tp1"
   ]
  },
  {
   "cell_type": "markdown",
   "metadata": {},
   "source": [
    "## Purchasing Analysis (Total)"
   ]
  },
  {
   "cell_type": "code",
   "execution_count": 6,
   "metadata": {},
   "outputs": [
    {
     "name": "stdout",
     "output_type": "stream",
     "text": [
      "Number of Unique Items\n"
     ]
    },
    {
     "data": {
      "text/plain": [
       "64"
      ]
     },
     "execution_count": 6,
     "metadata": {},
     "output_type": "execute_result"
    }
   ],
   "source": [
    "#Number of Unique Items\n",
    "\n",
    "\n",
    "#Total Revenue\n",
    "i = df[\"Item ID\"].unique()\n",
    "print(\"Number of Unique Items\")\n",
    "items = len(i)\n",
    "items"
   ]
  },
  {
   "cell_type": "code",
   "execution_count": 7,
   "metadata": {},
   "outputs": [
    {
     "data": {
      "text/plain": [
       "2.92"
      ]
     },
     "execution_count": 7,
     "metadata": {},
     "output_type": "execute_result"
    }
   ],
   "source": [
    "#Average Purchase Price\n",
    "ap = round(df[\"Price\"].mean(),2)\n",
    "ap"
   ]
  },
  {
   "cell_type": "code",
   "execution_count": 8,
   "metadata": {},
   "outputs": [
    {
     "data": {
      "text/plain": [
       "78"
      ]
     },
     "execution_count": 8,
     "metadata": {},
     "output_type": "execute_result"
    }
   ],
   "source": [
    "#Total Number of Purchases\n",
    "p = df[\"Item ID\"].count()\n",
    "p"
   ]
  },
  {
   "cell_type": "code",
   "execution_count": 9,
   "metadata": {},
   "outputs": [
    {
     "data": {
      "text/plain": [
       "228.1"
      ]
     },
     "execution_count": 9,
     "metadata": {},
     "output_type": "execute_result"
    }
   ],
   "source": [
    "#Total Revenue\n",
    "Revenue = round(df[\"Price\"].sum(),2)\n",
    "Revenue"
   ]
  },
  {
   "cell_type": "code",
   "execution_count": 10,
   "metadata": {},
   "outputs": [
    {
     "data": {
      "text/html": [
       "<div>\n",
       "<style scoped>\n",
       "    .dataframe tbody tr th:only-of-type {\n",
       "        vertical-align: middle;\n",
       "    }\n",
       "\n",
       "    .dataframe tbody tr th {\n",
       "        vertical-align: top;\n",
       "    }\n",
       "\n",
       "    .dataframe thead th {\n",
       "        text-align: right;\n",
       "    }\n",
       "</style>\n",
       "<table border=\"1\" class=\"dataframe\">\n",
       "  <thead>\n",
       "    <tr style=\"text-align: right;\">\n",
       "      <th></th>\n",
       "      <th>Average Purchase Price</th>\n",
       "      <th>Number of Unique Items</th>\n",
       "      <th>Total Number of Purchases</th>\n",
       "      <th>Total Revenue</th>\n",
       "    </tr>\n",
       "  </thead>\n",
       "  <tbody>\n",
       "    <tr>\n",
       "      <th>0</th>\n",
       "      <td>2.92</td>\n",
       "      <td>64</td>\n",
       "      <td>78</td>\n",
       "      <td>228.1</td>\n",
       "    </tr>\n",
       "  </tbody>\n",
       "</table>\n",
       "</div>"
      ],
      "text/plain": [
       "   Average Purchase Price  Number of Unique Items  Total Number of Purchases  \\\n",
       "0                    2.92                      64                         78   \n",
       "\n",
       "   Total Revenue  \n",
       "0          228.1  "
      ]
     },
     "execution_count": 10,
     "metadata": {},
     "output_type": "execute_result"
    }
   ],
   "source": [
    "PurchaseAna = {'Number of Unique Items': [items], 'Average Purchase Price': [ap],'Total Number of Purchases': [p],\"Total Revenue\"\n",
    "              : Revenue}\n",
    "PA = pd.DataFrame(PurchaseAna)\n",
    "PA "
   ]
  },
  {
   "cell_type": "markdown",
   "metadata": {},
   "source": [
    "## Gender Demographics"
   ]
  },
  {
   "cell_type": "code",
   "execution_count": 11,
   "metadata": {},
   "outputs": [],
   "source": [
    "#Percentage and Count of Male Players\n",
    "# Percentage and Count of Female Players\n",
    "#Percentage and Count of Other / Non-Disclosed"
   ]
  },
  {
   "cell_type": "code",
   "execution_count": 12,
   "metadata": {},
   "outputs": [],
   "source": [
    "total_gender = df[\"Gender\"].count()\n",
    "male = df[\"Gender\"].value_counts()['Male']\n",
    "female = df[\"Gender\"].value_counts()['Female']\n",
    "non_gender_specific = total_gender - male - female"
   ]
  },
  {
   "cell_type": "code",
   "execution_count": 13,
   "metadata": {},
   "outputs": [],
   "source": [
    "male_percent = round((male/total_gender) * 100,2)\n",
    "female_percent = round((female/total_gender) * 100,2)\n",
    "non_gender_specific_percent = round((non_gender_specific/total_gender) * 100,2)"
   ]
  },
  {
   "cell_type": "code",
   "execution_count": 14,
   "metadata": {},
   "outputs": [],
   "source": [
    "gender_Count = {'Male': [male], 'Female': [female],'Non-Disclosed': [non_gender_specific]}\n",
    "geneder_Percent = {'Male': [male_percent], 'Female': [female_percent],'Non-Disclosed': [non_gender_specific_percent]}\n",
    "gcount = pd.DataFrame(gender_Count)\n",
    "gpercent = pd.DataFrame(geneder_Percent)"
   ]
  },
  {
   "cell_type": "code",
   "execution_count": 15,
   "metadata": {},
   "outputs": [
    {
     "data": {
      "text/html": [
       "<div>\n",
       "<style scoped>\n",
       "    .dataframe tbody tr th:only-of-type {\n",
       "        vertical-align: middle;\n",
       "    }\n",
       "\n",
       "    .dataframe tbody tr th {\n",
       "        vertical-align: top;\n",
       "    }\n",
       "\n",
       "    .dataframe thead th {\n",
       "        text-align: right;\n",
       "    }\n",
       "</style>\n",
       "<table border=\"1\" class=\"dataframe\">\n",
       "  <thead>\n",
       "    <tr style=\"text-align: right;\">\n",
       "      <th></th>\n",
       "      <th>Count</th>\n",
       "      <th>Percent</th>\n",
       "      <th>Population</th>\n",
       "    </tr>\n",
       "  </thead>\n",
       "  <tbody>\n",
       "    <tr>\n",
       "      <th>0</th>\n",
       "      <td>64</td>\n",
       "      <td>82.05</td>\n",
       "      <td>Male</td>\n",
       "    </tr>\n",
       "    <tr>\n",
       "      <th>1</th>\n",
       "      <td>13</td>\n",
       "      <td>16.67</td>\n",
       "      <td>Female</td>\n",
       "    </tr>\n",
       "    <tr>\n",
       "      <th>2</th>\n",
       "      <td>1</td>\n",
       "      <td>1.28</td>\n",
       "      <td>Non-Disclosed</td>\n",
       "    </tr>\n",
       "  </tbody>\n",
       "</table>\n",
       "</div>"
      ],
      "text/plain": [
       "   Count  Percent     Population\n",
       "0     64    82.05           Male\n",
       "1     13    16.67         Female\n",
       "2      1     1.28  Non-Disclosed"
      ]
     },
     "execution_count": 15,
     "metadata": {},
     "output_type": "execute_result"
    }
   ],
   "source": [
    "male_player = {'Population': \"Male\",'Count': [male], 'Percent': [male_percent]}\n",
    "Female_Player = {'Population': \"Female\", 'Count': [female], 'Percent': [female_percent]}\n",
    "non_player = {'Population': \"Non-Disclosed\", 'Count': [non_gender_specific], 'Percent': [non_gender_specific_percent]}\n",
    "combined = pd.DataFrame(male_player,Female_Player)\n",
    "male_player_df = pd.DataFrame(male_player)\n",
    "female_player_df = pd.DataFrame(Female_Player)\n",
    "non_df = pd.DataFrame(non_player)\n",
    "pd.concat([male_player_df,female_player_df,non_df],ignore_index=True)"
   ]
  },
  {
   "cell_type": "markdown",
   "metadata": {},
   "source": [
    "## Purchasing Analysis (Gender)"
   ]
  },
  {
   "cell_type": "markdown",
   "metadata": {},
   "source": [
    "The below each broken by gender\n",
    "Purchase Count\n",
    "Average Purchase Price\n",
    "Total Purchase Value\n",
    "Normalized Totals"
   ]
  },
  {
   "cell_type": "code",
   "execution_count": 16,
   "metadata": {},
   "outputs": [],
   "source": [
    "gen = df.groupby('Gender')\n",
    "id_count = gen[\"Item ID\"].count()\n",
    "price_mean= round(gen[\"Price\"].mean(),2)\n",
    "total_purchase = gen[\"Price\"].sum()\n",
    "norm_price = round(total_purchase/id_count,2)"
   ]
  },
  {
   "cell_type": "code",
   "execution_count": 17,
   "metadata": {},
   "outputs": [],
   "source": [
    "combined = pd.DataFrame({\"Purchase Count\": id_count, \"Average Purchase Price\": price_mean, \"Total Purchase Value\":total_purchase,\n",
    "                         \"Normalized Totals\": norm_price})"
   ]
  },
  {
   "cell_type": "code",
   "execution_count": 18,
   "metadata": {},
   "outputs": [
    {
     "data": {
      "text/html": [
       "<div>\n",
       "<style scoped>\n",
       "    .dataframe tbody tr th:only-of-type {\n",
       "        vertical-align: middle;\n",
       "    }\n",
       "\n",
       "    .dataframe tbody tr th {\n",
       "        vertical-align: top;\n",
       "    }\n",
       "\n",
       "    .dataframe thead th {\n",
       "        text-align: right;\n",
       "    }\n",
       "</style>\n",
       "<table border=\"1\" class=\"dataframe\">\n",
       "  <thead>\n",
       "    <tr style=\"text-align: right;\">\n",
       "      <th></th>\n",
       "      <th>Average Purchase Price</th>\n",
       "      <th>Normalized Totals</th>\n",
       "      <th>Purchase Count</th>\n",
       "      <th>Total Purchase Value</th>\n",
       "    </tr>\n",
       "    <tr>\n",
       "      <th>Gender</th>\n",
       "      <th></th>\n",
       "      <th></th>\n",
       "      <th></th>\n",
       "      <th></th>\n",
       "    </tr>\n",
       "  </thead>\n",
       "  <tbody>\n",
       "    <tr>\n",
       "      <th>Female</th>\n",
       "      <td>3.18</td>\n",
       "      <td>3.18</td>\n",
       "      <td>13</td>\n",
       "      <td>41.38</td>\n",
       "    </tr>\n",
       "    <tr>\n",
       "      <th>Male</th>\n",
       "      <td>2.88</td>\n",
       "      <td>2.88</td>\n",
       "      <td>64</td>\n",
       "      <td>184.60</td>\n",
       "    </tr>\n",
       "    <tr>\n",
       "      <th>Other / Non-Disclosed</th>\n",
       "      <td>2.12</td>\n",
       "      <td>2.12</td>\n",
       "      <td>1</td>\n",
       "      <td>2.12</td>\n",
       "    </tr>\n",
       "  </tbody>\n",
       "</table>\n",
       "</div>"
      ],
      "text/plain": [
       "                       Average Purchase Price  Normalized Totals  \\\n",
       "Gender                                                             \n",
       "Female                                   3.18               3.18   \n",
       "Male                                     2.88               2.88   \n",
       "Other / Non-Disclosed                    2.12               2.12   \n",
       "\n",
       "                       Purchase Count  Total Purchase Value  \n",
       "Gender                                                       \n",
       "Female                             13                 41.38  \n",
       "Male                               64                184.60  \n",
       "Other / Non-Disclosed               1                  2.12  "
      ]
     },
     "execution_count": 18,
     "metadata": {},
     "output_type": "execute_result"
    }
   ],
   "source": [
    "combined"
   ]
  },
  {
   "cell_type": "markdown",
   "metadata": {},
   "source": [
    "## Age Demographics\n"
   ]
  },
  {
   "cell_type": "markdown",
   "metadata": {},
   "source": [
    "The below each broken into bins of 4 years (i.e. <10, 10-14, 15-19, etc.)\n",
    "Purchase Count\n",
    "Average Purchase Price\n",
    "Total Purchase Value\n",
    "Normalized Totals"
   ]
  },
  {
   "cell_type": "code",
   "execution_count": 19,
   "metadata": {},
   "outputs": [
    {
     "data": {
      "text/plain": [
       "0     15-19\n",
       "1     20-24\n",
       "2     15-19\n",
       "3     15-19\n",
       "4     20-24\n",
       "5       <10\n",
       "6     35-40\n",
       "7     25-29\n",
       "8     15-19\n",
       "9     35-40\n",
       "10    20-24\n",
       "11    35-40\n",
       "12    15-19\n",
       "13    30-34\n",
       "14      <10\n",
       "15    20-24\n",
       "16    20-24\n",
       "17      <10\n",
       "18    10-14\n",
       "19    20-24\n",
       "20    30-34\n",
       "21    10-14\n",
       "22    15-19\n",
       "23    15-19\n",
       "24    20-24\n",
       "25    15-19\n",
       "26      <10\n",
       "27    20-24\n",
       "28    15-19\n",
       "29    20-24\n",
       "      ...  \n",
       "48    20-24\n",
       "49    15-19\n",
       "50    20-24\n",
       "51    25-29\n",
       "52    20-24\n",
       "53    15-19\n",
       "54    20-24\n",
       "55    15-19\n",
       "56    15-19\n",
       "57    20-24\n",
       "58    25-29\n",
       "59    35-40\n",
       "60    20-24\n",
       "61    20-24\n",
       "62    15-19\n",
       "63    10-14\n",
       "64    20-24\n",
       "65    20-24\n",
       "66    20-24\n",
       "67    20-24\n",
       "68    20-24\n",
       "69    30-34\n",
       "70    20-24\n",
       "71    20-24\n",
       "72    20-24\n",
       "73    30-34\n",
       "74    35-40\n",
       "75    10-14\n",
       "76    20-24\n",
       "77    15-19\n",
       "Name: Age, Length: 78, dtype: category\n",
       "Categories (7, object): [<10 < 10-14 < 15-19 < 20-24 < 25-29 < 30-34 < 35-40]"
      ]
     },
     "execution_count": 19,
     "metadata": {},
     "output_type": "execute_result"
    }
   ],
   "source": [
    "bins = [0,10,15,20,25,30,35,40]\n",
    "names = ['<10','10-14','15-19','20-24','25-29','30-34','35-40']\n",
    "pd.cut(df[\"Age\"], bins, labels=names)"
   ]
  },
  {
   "cell_type": "code",
   "execution_count": 20,
   "metadata": {},
   "outputs": [],
   "source": [
    "df[\"Age_Group\"] = pd.cut(df[\"Age\"], bins, labels=names)"
   ]
  },
  {
   "cell_type": "code",
   "execution_count": 21,
   "metadata": {},
   "outputs": [],
   "source": [
    "Age_df = df.groupby('Age_Group')\n",
    "item = Age_df[\"Item ID\"].count()\n",
    "avg_p = Age_df[\"Price\"].mean().round(2)\n",
    "total_p = Age_df[\"Price\"].sum()\n",
    "normal_p = (total_p/item).round(2)"
   ]
  },
  {
   "cell_type": "code",
   "execution_count": 22,
   "metadata": {},
   "outputs": [
    {
     "data": {
      "text/html": [
       "<div>\n",
       "<style scoped>\n",
       "    .dataframe tbody tr th:only-of-type {\n",
       "        vertical-align: middle;\n",
       "    }\n",
       "\n",
       "    .dataframe tbody tr th {\n",
       "        vertical-align: top;\n",
       "    }\n",
       "\n",
       "    .dataframe thead th {\n",
       "        text-align: right;\n",
       "    }\n",
       "</style>\n",
       "<table border=\"1\" class=\"dataframe\">\n",
       "  <thead>\n",
       "    <tr style=\"text-align: right;\">\n",
       "      <th></th>\n",
       "      <th>Players Percentage</th>\n",
       "      <th>Total Count</th>\n",
       "    </tr>\n",
       "  </thead>\n",
       "  <tbody>\n",
       "    <tr>\n",
       "      <th>0</th>\n",
       "      <td>6.41</td>\n",
       "      <td>5</td>\n",
       "    </tr>\n",
       "    <tr>\n",
       "      <th>1</th>\n",
       "      <td>5.13</td>\n",
       "      <td>4</td>\n",
       "    </tr>\n",
       "    <tr>\n",
       "      <th>2</th>\n",
       "      <td>25.64</td>\n",
       "      <td>20</td>\n",
       "    </tr>\n",
       "    <tr>\n",
       "      <th>3</th>\n",
       "      <td>38.46</td>\n",
       "      <td>30</td>\n",
       "    </tr>\n",
       "    <tr>\n",
       "      <th>4</th>\n",
       "      <td>5.13</td>\n",
       "      <td>4</td>\n",
       "    </tr>\n",
       "    <tr>\n",
       "      <th>5</th>\n",
       "      <td>7.69</td>\n",
       "      <td>6</td>\n",
       "    </tr>\n",
       "    <tr>\n",
       "      <th>6</th>\n",
       "      <td>6.41</td>\n",
       "      <td>5</td>\n",
       "    </tr>\n",
       "  </tbody>\n",
       "</table>\n",
       "</div>"
      ],
      "text/plain": [
       "   Players Percentage  Total Count\n",
       "0                6.41            5\n",
       "1                5.13            4\n",
       "2               25.64           20\n",
       "3               38.46           30\n",
       "4                5.13            4\n",
       "5                7.69            6\n",
       "6                6.41            5"
      ]
     },
     "execution_count": 22,
     "metadata": {},
     "output_type": "execute_result"
    }
   ],
   "source": [
    "player = Age_df[\"SN\"].unique()\n",
    "players = [len(x) for x in player]\n",
    "players_perc = (players/(df[\"SN\"].count()))*100\n",
    "player_df = pd.DataFrame({\"Total Count\": players, \"Players Percentage\": players_perc.round(2)})\n",
    "play_df = (player_df)\n",
    "play_df"
   ]
  },
  {
   "cell_type": "code",
   "execution_count": 23,
   "metadata": {},
   "outputs": [
    {
     "data": {
      "text/html": [
       "<div>\n",
       "<style scoped>\n",
       "    .dataframe tbody tr th:only-of-type {\n",
       "        vertical-align: middle;\n",
       "    }\n",
       "\n",
       "    .dataframe tbody tr th {\n",
       "        vertical-align: top;\n",
       "    }\n",
       "\n",
       "    .dataframe thead th {\n",
       "        text-align: right;\n",
       "    }\n",
       "</style>\n",
       "<table border=\"1\" class=\"dataframe\">\n",
       "  <thead>\n",
       "    <tr style=\"text-align: right;\">\n",
       "      <th></th>\n",
       "      <th>Average Purchase Price</th>\n",
       "      <th>Normalized Totals</th>\n",
       "      <th>Purchase Count</th>\n",
       "      <th>Total Purchase Value</th>\n",
       "    </tr>\n",
       "    <tr>\n",
       "      <th>Age_Group</th>\n",
       "      <th></th>\n",
       "      <th></th>\n",
       "      <th></th>\n",
       "      <th></th>\n",
       "    </tr>\n",
       "  </thead>\n",
       "  <tbody>\n",
       "    <tr>\n",
       "      <th>&lt;10</th>\n",
       "      <td>2.76</td>\n",
       "      <td>2.76</td>\n",
       "      <td>5</td>\n",
       "      <td>13.82</td>\n",
       "    </tr>\n",
       "    <tr>\n",
       "      <th>10-14</th>\n",
       "      <td>3.05</td>\n",
       "      <td>3.05</td>\n",
       "      <td>4</td>\n",
       "      <td>12.21</td>\n",
       "    </tr>\n",
       "    <tr>\n",
       "      <th>15-19</th>\n",
       "      <td>2.73</td>\n",
       "      <td>2.73</td>\n",
       "      <td>20</td>\n",
       "      <td>54.69</td>\n",
       "    </tr>\n",
       "    <tr>\n",
       "      <th>20-24</th>\n",
       "      <td>3.04</td>\n",
       "      <td>3.04</td>\n",
       "      <td>33</td>\n",
       "      <td>100.42</td>\n",
       "    </tr>\n",
       "    <tr>\n",
       "      <th>25-29</th>\n",
       "      <td>2.69</td>\n",
       "      <td>2.69</td>\n",
       "      <td>4</td>\n",
       "      <td>10.77</td>\n",
       "    </tr>\n",
       "    <tr>\n",
       "      <th>30-34</th>\n",
       "      <td>2.35</td>\n",
       "      <td>2.35</td>\n",
       "      <td>7</td>\n",
       "      <td>16.47</td>\n",
       "    </tr>\n",
       "    <tr>\n",
       "      <th>35-40</th>\n",
       "      <td>3.94</td>\n",
       "      <td>3.94</td>\n",
       "      <td>5</td>\n",
       "      <td>19.72</td>\n",
       "    </tr>\n",
       "  </tbody>\n",
       "</table>\n",
       "</div>"
      ],
      "text/plain": [
       "           Average Purchase Price  Normalized Totals  Purchase Count  \\\n",
       "Age_Group                                                              \n",
       "<10                          2.76               2.76               5   \n",
       "10-14                        3.05               3.05               4   \n",
       "15-19                        2.73               2.73              20   \n",
       "20-24                        3.04               3.04              33   \n",
       "25-29                        2.69               2.69               4   \n",
       "30-34                        2.35               2.35               7   \n",
       "35-40                        3.94               3.94               5   \n",
       "\n",
       "           Total Purchase Value  \n",
       "Age_Group                        \n",
       "<10                       13.82  \n",
       "10-14                     12.21  \n",
       "15-19                     54.69  \n",
       "20-24                    100.42  \n",
       "25-29                     10.77  \n",
       "30-34                     16.47  \n",
       "35-40                     19.72  "
      ]
     },
     "execution_count": 23,
     "metadata": {},
     "output_type": "execute_result"
    }
   ],
   "source": [
    "item_df = pd.DataFrame({\"Purchase Count\": item, \"Average Purchase Price\": avg_p, \n",
    "                        \"Total Purchase Value\": total_p, \"Normalized Totals\": normal_p})\n",
    "items_df = (item_df)\n",
    "items_df"
   ]
  },
  {
   "cell_type": "markdown",
   "metadata": {},
   "source": [
    "## Top Spenders"
   ]
  },
  {
   "cell_type": "markdown",
   "metadata": {},
   "source": [
    "Identify the the top 5 spenders in the game by total purchase value, then list (in a table):\n",
    "SN\n",
    "Purchase Count\n",
    "Average Purchase Price\n",
    "Total Purchase Value"
   ]
  },
  {
   "cell_type": "code",
   "execution_count": 24,
   "metadata": {},
   "outputs": [
    {
     "data": {
      "text/html": [
       "<div>\n",
       "<style scoped>\n",
       "    .dataframe tbody tr th:only-of-type {\n",
       "        vertical-align: middle;\n",
       "    }\n",
       "\n",
       "    .dataframe tbody tr th {\n",
       "        vertical-align: top;\n",
       "    }\n",
       "\n",
       "    .dataframe thead th {\n",
       "        text-align: right;\n",
       "    }\n",
       "</style>\n",
       "<table border=\"1\" class=\"dataframe\">\n",
       "  <thead>\n",
       "    <tr style=\"text-align: right;\">\n",
       "      <th></th>\n",
       "      <th>Average Purchase Price</th>\n",
       "      <th>Purchase Count</th>\n",
       "      <th>Total Purchase Value</th>\n",
       "    </tr>\n",
       "    <tr>\n",
       "      <th>SN</th>\n",
       "      <th></th>\n",
       "      <th></th>\n",
       "      <th></th>\n",
       "    </tr>\n",
       "  </thead>\n",
       "  <tbody>\n",
       "    <tr>\n",
       "      <th>Sundaky74</th>\n",
       "      <td>3.70</td>\n",
       "      <td>2</td>\n",
       "      <td>7.41</td>\n",
       "    </tr>\n",
       "    <tr>\n",
       "      <th>Aidaira26</th>\n",
       "      <td>2.56</td>\n",
       "      <td>2</td>\n",
       "      <td>5.13</td>\n",
       "    </tr>\n",
       "    <tr>\n",
       "      <th>Eusty71</th>\n",
       "      <td>4.81</td>\n",
       "      <td>1</td>\n",
       "      <td>4.81</td>\n",
       "    </tr>\n",
       "    <tr>\n",
       "      <th>Chanirra64</th>\n",
       "      <td>4.78</td>\n",
       "      <td>1</td>\n",
       "      <td>4.78</td>\n",
       "    </tr>\n",
       "    <tr>\n",
       "      <th>Alarap40</th>\n",
       "      <td>4.71</td>\n",
       "      <td>1</td>\n",
       "      <td>4.71</td>\n",
       "    </tr>\n",
       "  </tbody>\n",
       "</table>\n",
       "</div>"
      ],
      "text/plain": [
       "            Average Purchase Price  Purchase Count  Total Purchase Value\n",
       "SN                                                                      \n",
       "Sundaky74                     3.70               2                  7.41\n",
       "Aidaira26                     2.56               2                  5.13\n",
       "Eusty71                       4.81               1                  4.81\n",
       "Chanirra64                    4.78               1                  4.78\n",
       "Alarap40                      4.71               1                  4.71"
      ]
     },
     "execution_count": 24,
     "metadata": {},
     "output_type": "execute_result"
    }
   ],
   "source": [
    "SN = df.groupby('SN')\n",
    "id_count = SN[\"Item ID\"].count()\n",
    "price_Avg= round(SN[\"Price\"].mean(),2)\n",
    "total_purchase = SN[\"Price\"].sum()\n",
    "top_spend = pd.DataFrame({\"Purchase Count\": id_count, \"Average Purchase Price\": price_Avg, \n",
    "                        \"Total Purchase Value\": total_purchase})\n",
    "top_s = (top_spend)\n",
    "top_5 = top_s.sort_values(by=\"Total Purchase Value\", ascending=False)\n",
    "top_5.head(5)"
   ]
  },
  {
   "cell_type": "markdown",
   "metadata": {},
   "source": [
    "## Most Popular Items"
   ]
  },
  {
   "cell_type": "markdown",
   "metadata": {},
   "source": [
    "Identify the 5 most popular items by purchase count, then list (in a table):\n",
    "Item ID\n",
    "Item Name\n",
    "Purchase Count\n",
    "Item Price\n",
    "Total Purchase Value"
   ]
  },
  {
   "cell_type": "code",
   "execution_count": 25,
   "metadata": {},
   "outputs": [
    {
     "data": {
      "text/html": [
       "<div>\n",
       "<style scoped>\n",
       "    .dataframe tbody tr th:only-of-type {\n",
       "        vertical-align: middle;\n",
       "    }\n",
       "\n",
       "    .dataframe tbody tr th {\n",
       "        vertical-align: top;\n",
       "    }\n",
       "\n",
       "    .dataframe thead th {\n",
       "        text-align: right;\n",
       "    }\n",
       "</style>\n",
       "<table border=\"1\" class=\"dataframe\">\n",
       "  <thead>\n",
       "    <tr style=\"text-align: right;\">\n",
       "      <th></th>\n",
       "      <th>Average Purchase Price</th>\n",
       "      <th>Item ID</th>\n",
       "      <th>Item Name</th>\n",
       "      <th>Purchase Count</th>\n",
       "      <th>Total Purchase Value</th>\n",
       "    </tr>\n",
       "    <tr>\n",
       "      <th>Item ID</th>\n",
       "      <th></th>\n",
       "      <th></th>\n",
       "      <th></th>\n",
       "      <th></th>\n",
       "      <th></th>\n",
       "    </tr>\n",
       "  </thead>\n",
       "  <tbody>\n",
       "    <tr>\n",
       "      <th>94</th>\n",
       "      <td>3.64</td>\n",
       "      <td>[94]</td>\n",
       "      <td>[Mourning Blade]</td>\n",
       "      <td>3</td>\n",
       "      <td>10.92</td>\n",
       "    </tr>\n",
       "    <tr>\n",
       "      <th>90</th>\n",
       "      <td>4.12</td>\n",
       "      <td>[90]</td>\n",
       "      <td>[Betrayer]</td>\n",
       "      <td>2</td>\n",
       "      <td>8.24</td>\n",
       "    </tr>\n",
       "    <tr>\n",
       "      <th>111</th>\n",
       "      <td>1.79</td>\n",
       "      <td>[111]</td>\n",
       "      <td>[Misery's End]</td>\n",
       "      <td>2</td>\n",
       "      <td>3.58</td>\n",
       "    </tr>\n",
       "    <tr>\n",
       "      <th>64</th>\n",
       "      <td>2.42</td>\n",
       "      <td>[64]</td>\n",
       "      <td>[Fusion Pummel]</td>\n",
       "      <td>2</td>\n",
       "      <td>4.84</td>\n",
       "    </tr>\n",
       "    <tr>\n",
       "      <th>154</th>\n",
       "      <td>4.11</td>\n",
       "      <td>[154]</td>\n",
       "      <td>[Feral Katana]</td>\n",
       "      <td>2</td>\n",
       "      <td>8.22</td>\n",
       "    </tr>\n",
       "  </tbody>\n",
       "</table>\n",
       "</div>"
      ],
      "text/plain": [
       "         Average Purchase Price Item ID         Item Name  Purchase Count  \\\n",
       "Item ID                                                                     \n",
       "94                         3.64    [94]  [Mourning Blade]               3   \n",
       "90                         4.12    [90]        [Betrayer]               2   \n",
       "111                        1.79   [111]    [Misery's End]               2   \n",
       "64                         2.42    [64]   [Fusion Pummel]               2   \n",
       "154                        4.11   [154]    [Feral Katana]               2   \n",
       "\n",
       "         Total Purchase Value  \n",
       "Item ID                        \n",
       "94                      10.92  \n",
       "90                       8.24  \n",
       "111                      3.58  \n",
       "64                       4.84  \n",
       "154                      8.22  "
      ]
     },
     "execution_count": 25,
     "metadata": {},
     "output_type": "execute_result"
    }
   ],
   "source": [
    "itemsPop = df.groupby('Item ID')\n",
    "item_name = itemsPop[\"Item Name\"].unique()\n",
    "ID = itemsPop[\"Item ID\"].unique()\n",
    "id_counts = itemsPop[\"Item ID\"].count()\n",
    "prices = round(itemsPop[\"Price\"].mean(),2)\n",
    "total_pur = itemsPop[\"Price\"].sum()\n",
    "Pop_items = pd.DataFrame({\"Item ID\": ID, \"Item Name\": item_name, \"Purchase Count\": id_counts, \"Average Purchase Price\": prices, \n",
    "                        \"Total Purchase Value\": total_pur})\n",
    "top_pop = (Pop_items)\n",
    "top_items = top_pop.sort_values(by=\"Purchase Count\", ascending=False)\n",
    "top_items.head(5)"
   ]
  },
  {
   "cell_type": "markdown",
   "metadata": {},
   "source": [
    "## Most Profitable Items"
   ]
  },
  {
   "cell_type": "markdown",
   "metadata": {},
   "source": [
    "Identify the 5 most profitable items by total purchase value, then list (in a table):\n",
    "Item ID\n",
    "Item Name\n",
    "Purchase Count\n",
    "Item Price\n",
    "Total Purchase Value"
   ]
  },
  {
   "cell_type": "code",
   "execution_count": 27,
   "metadata": {},
   "outputs": [
    {
     "data": {
      "text/html": [
       "<div>\n",
       "<style scoped>\n",
       "    .dataframe tbody tr th:only-of-type {\n",
       "        vertical-align: middle;\n",
       "    }\n",
       "\n",
       "    .dataframe tbody tr th {\n",
       "        vertical-align: top;\n",
       "    }\n",
       "\n",
       "    .dataframe thead th {\n",
       "        text-align: right;\n",
       "    }\n",
       "</style>\n",
       "<table border=\"1\" class=\"dataframe\">\n",
       "  <thead>\n",
       "    <tr style=\"text-align: right;\">\n",
       "      <th></th>\n",
       "      <th>Average Purchase Price</th>\n",
       "      <th>Item ID</th>\n",
       "      <th>Item Name</th>\n",
       "      <th>Purchase Count</th>\n",
       "      <th>Total Purchase Value</th>\n",
       "    </tr>\n",
       "    <tr>\n",
       "      <th>Item ID</th>\n",
       "      <th></th>\n",
       "      <th></th>\n",
       "      <th></th>\n",
       "      <th></th>\n",
       "      <th></th>\n",
       "    </tr>\n",
       "  </thead>\n",
       "  <tbody>\n",
       "    <tr>\n",
       "      <th>94</th>\n",
       "      <td>3.64</td>\n",
       "      <td>[94]</td>\n",
       "      <td>[Mourning Blade]</td>\n",
       "      <td>3</td>\n",
       "      <td>10.92</td>\n",
       "    </tr>\n",
       "    <tr>\n",
       "      <th>117</th>\n",
       "      <td>4.71</td>\n",
       "      <td>[117]</td>\n",
       "      <td>[Heartstriker, Legacy of the Light]</td>\n",
       "      <td>2</td>\n",
       "      <td>9.42</td>\n",
       "    </tr>\n",
       "    <tr>\n",
       "      <th>93</th>\n",
       "      <td>4.49</td>\n",
       "      <td>[93]</td>\n",
       "      <td>[Apocalyptic Battlescythe]</td>\n",
       "      <td>2</td>\n",
       "      <td>8.98</td>\n",
       "    </tr>\n",
       "    <tr>\n",
       "      <th>90</th>\n",
       "      <td>4.12</td>\n",
       "      <td>[90]</td>\n",
       "      <td>[Betrayer]</td>\n",
       "      <td>2</td>\n",
       "      <td>8.24</td>\n",
       "    </tr>\n",
       "    <tr>\n",
       "      <th>154</th>\n",
       "      <td>4.11</td>\n",
       "      <td>[154]</td>\n",
       "      <td>[Feral Katana]</td>\n",
       "      <td>2</td>\n",
       "      <td>8.22</td>\n",
       "    </tr>\n",
       "  </tbody>\n",
       "</table>\n",
       "</div>"
      ],
      "text/plain": [
       "         Average Purchase Price Item ID                            Item Name  \\\n",
       "Item ID                                                                        \n",
       "94                         3.64    [94]                     [Mourning Blade]   \n",
       "117                        4.71   [117]  [Heartstriker, Legacy of the Light]   \n",
       "93                         4.49    [93]           [Apocalyptic Battlescythe]   \n",
       "90                         4.12    [90]                           [Betrayer]   \n",
       "154                        4.11   [154]                       [Feral Katana]   \n",
       "\n",
       "         Purchase Count  Total Purchase Value  \n",
       "Item ID                                        \n",
       "94                    3                 10.92  \n",
       "117                   2                  9.42  \n",
       "93                    2                  8.98  \n",
       "90                    2                  8.24  \n",
       "154                   2                  8.22  "
      ]
     },
     "execution_count": 27,
     "metadata": {},
     "output_type": "execute_result"
    }
   ],
   "source": [
    "itemsProf = df.groupby('Item ID')\n",
    "item_name_p = itemsProf[\"Item Name\"].unique()\n",
    "ID_p = itemsProf[\"Item ID\"].unique()\n",
    "id_counts_p = itemsProf[\"Item ID\"].count()\n",
    "prices_p = round(itemsProf[\"Price\"].mean(),2)\n",
    "total_pur_p = itemsProf[\"Price\"].sum()\n",
    "Prof_items_p = pd.DataFrame({\"Item ID\": ID_p, \"Item Name\": item_name_p, \"Purchase Count\": id_counts_p, \n",
    "                          \"Average Purchase Price\": prices_p, \n",
    "                        \"Total Purchase Value\": total_pur_p})\n",
    "top_prof = (Prof_items_p)\n",
    "top_prof = top_prof.sort_values(by=\"Total Purchase Value\", ascending=False)\n",
    "top_prof.head(5)"
   ]
  },
  {
   "cell_type": "code",
   "execution_count": null,
   "metadata": {},
   "outputs": [],
   "source": []
  }
 ],
 "metadata": {
  "kernelspec": {
   "display_name": "Python [conda env:pythondata2]",
   "language": "python",
   "name": "conda-env-pythondata2-py"
  },
  "language_info": {
   "codemirror_mode": {
    "name": "ipython",
    "version": 3
   },
   "file_extension": ".py",
   "mimetype": "text/x-python",
   "name": "python",
   "nbconvert_exporter": "python",
   "pygments_lexer": "ipython3",
   "version": "3.6.4"
  }
 },
 "nbformat": 4,
 "nbformat_minor": 2
}
